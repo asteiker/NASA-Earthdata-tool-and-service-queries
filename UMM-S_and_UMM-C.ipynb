{
 "cells": [
  {
   "cell_type": "code",
   "execution_count": null,
   "id": "0283775d-63ca-44b4-a801-8c4b050c7966",
   "metadata": {},
   "outputs": [],
   "source": [
    "import requests"
   ]
  },
  {
   "cell_type": "markdown",
   "id": "4af2fdab-9425-4b73-82b7-2132f738449d",
   "metadata": {},
   "source": [
    "### Return a list of all services for each ECS dataset:"
   ]
  },
  {
   "cell_type": "code",
   "execution_count": null,
   "id": "00cb823b-deee-46bb-a2bb-848adeef90b4",
   "metadata": {},
   "outputs": [],
   "source": [
    "query = \"\"\"query {\n",
    "  collections(limit: 2000, provider: \"NSIDC_ECS\") {\n",
    "    count\n",
    "    items {\n",
    "      shortName\n",
    "      versionId\n",
    "      conceptId\n",
    "      services {\n",
    "        count\n",
    "        items {\n",
    "          name\n",
    "        }\n",
    "      }\n",
    "    }\n",
    "  }\n",
    "}\"\"\""
   ]
  },
  {
   "cell_type": "markdown",
   "id": "7c6cc8d6-7391-4c3e-bfbd-47d5fb76a3ea",
   "metadata": {},
   "source": [
    "This utilizes a different API endpoint to query CMR metdata using GraphQL. Here we set up another request, passing our query string above:"
   ]
  },
  {
   "cell_type": "code",
   "execution_count": null,
   "id": "0cf50bf6-a2e3-49f3-b04c-dd6e42a86e99",
   "metadata": {},
   "outputs": [],
   "source": [
    "graphql_url = 'https://graphql.earthdata.nasa.gov/api'\n",
    "\n",
    "graphql_response = requests.get(graphql_url,\n",
    "                        params={\"query\": query},\n",
    "                        headers={\n",
    "                            'Accept': 'application/json',\n",
    "                        }\n",
    "                       )"
   ]
  },
  {
   "cell_type": "markdown",
   "id": "253214b8-1c92-4181-aedd-c65e17b806ba",
   "metadata": {
    "tags": []
   },
   "source": [
    "A json response is returned that provides all collections with services. We can then extract just the collection`shortName`, `conceptID`, and the service names supported for each collection: "
   ]
  },
  {
   "cell_type": "code",
   "execution_count": null,
   "id": "5ce94be1-0e50-412c-bba9-bde4b806977c",
   "metadata": {
    "tags": []
   },
   "outputs": [],
   "source": [
    "datasets = graphql_response.json()['data']['collections']['items']\n",
    "\n",
    "for dataset in datasets:\n",
    "    if dataset['services']['count'] > 0:\n",
    "        print(dataset['shortName'], \"version:\", dataset['versionId'], \",\", dataset['conceptId'])\n",
    "        for i in range(len(dataset['services']['items'])):\n",
    "            print(\"Services:\", dataset['services']['items'][i]['name'])"
   ]
  },
  {
   "cell_type": "code",
   "execution_count": null,
   "id": "4ce49589-33a3-4454-bd8b-0d870e5264d7",
   "metadata": {},
   "outputs": [],
   "source": [
    "dataset['services']['count']"
   ]
  },
  {
   "cell_type": "markdown",
   "id": "d0967701-f431-470e-8238-11e9297ba86a",
   "metadata": {},
   "source": [
    "### Return a list of all datasets association to each ECS Service:"
   ]
  },
  {
   "cell_type": "code",
   "execution_count": null,
   "id": "6858d424-7a26-4604-bcdb-d1939c98167c",
   "metadata": {},
   "outputs": [],
   "source": [
    "query = \"\"\"query {\n",
    "  services(limit: 2000) {\n",
    "    count\n",
    "    items {\n",
    "      name\n",
    "      longName\n",
    "      conceptId\n",
    "      collections(limit: 2000) {\n",
    "        count \n",
    "        items {\n",
    "          shortName\n",
    "          versionId\n",
    "          conceptId\n",
    "          provider\n",
    "        }\n",
    "      }\n",
    "    }\n",
    "  }\n",
    "}\"\"\""
   ]
  },
  {
   "cell_type": "code",
   "execution_count": null,
   "id": "a5fc8aa7-e060-4392-823d-47e12dac9ab1",
   "metadata": {},
   "outputs": [],
   "source": [
    "graphql_url = 'https://graphql.earthdata.nasa.gov/api'\n",
    "\n",
    "graphql_response = requests.get(graphql_url,\n",
    "                        params={\"query\": query},\n",
    "                        headers={\n",
    "                            'Accept': 'application/json',\n",
    "                        }\n",
    "                       )"
   ]
  },
  {
   "cell_type": "code",
   "execution_count": null,
   "id": "b41bbd89-255c-4784-b82f-eab242e8ee32",
   "metadata": {
    "tags": []
   },
   "outputs": [],
   "source": [
    "services = graphql_response.json()['data']['services']['items']\n",
    "\n",
    "for service in services:\n",
    "    if service['conceptId'][-9:]==\"NSIDC_ECS\":\n",
    "        print(\"SERVICE:\", service['longName'],\",\", service['name'])\n",
    "        for i in range(len(service['collections']['items'])):\n",
    "            print(service['collections']['items'][i]['shortName'], \",\", service['collections']['items'][i]['versionId'])"
   ]
  },
  {
   "cell_type": "markdown",
   "id": "9d718a47-8004-44ac-acb1-0964adbbcc52",
   "metadata": {},
   "source": [
    "### Return a list of all dataset association to each V0 Service:"
   ]
  },
  {
   "cell_type": "code",
   "execution_count": null,
   "id": "021b428b-e549-4501-b827-433b6bbac23d",
   "metadata": {
    "tags": []
   },
   "outputs": [],
   "source": [
    "services = graphql_response.json()['data']['services']['items']\n",
    "\n",
    "for service in services:\n",
    "    if service['conceptId'][-7:]==\"NSIDCV0\":\n",
    "        print(\"SERVICE:\", service['longName'],\",\", service['name'])\n",
    "        for i in range(len(service['collections']['items'])):\n",
    "            print(service['collections']['items'][i]['shortName'], \",\", service['collections']['items'][i]['versionId'])"
   ]
  },
  {
   "cell_type": "markdown",
   "id": "0d14b051-219c-4161-a2f6-9081ae2d267a",
   "metadata": {},
   "source": [
    "### Return a list of all dataset association to each ECS Tool:"
   ]
  },
  {
   "cell_type": "code",
   "execution_count": null,
   "id": "fd4276da-7f8c-4bca-9d56-07ee8ed1ef0c",
   "metadata": {},
   "outputs": [],
   "source": [
    "query = \"\"\"query {\n",
    "  tools(limit: 2000) {\n",
    "    count\n",
    "    items {\n",
    "      name\n",
    "      longName\n",
    "      conceptId\n",
    "      collections(limit: 2000) {\n",
    "        count \n",
    "        items {\n",
    "          shortName\n",
    "          versionId\n",
    "          conceptId\n",
    "          provider\n",
    "        }\n",
    "      }\n",
    "    }\n",
    "  }\n",
    "}\"\"\""
   ]
  },
  {
   "cell_type": "code",
   "execution_count": null,
   "id": "265863b8-5e18-4f07-8864-9e5f5b34adfa",
   "metadata": {},
   "outputs": [],
   "source": [
    "graphql_url = 'https://graphql.earthdata.nasa.gov/api'\n",
    "\n",
    "graphql_response = requests.get(graphql_url,\n",
    "                        params={\"query\": query},\n",
    "                        headers={\n",
    "                            'Accept': 'application/json',\n",
    "                        }\n",
    "                       )"
   ]
  },
  {
   "cell_type": "code",
   "execution_count": null,
   "id": "f9516b87-2c01-43e0-a20a-f9a582fdd914",
   "metadata": {
    "tags": []
   },
   "outputs": [],
   "source": [
    "tools = graphql_response.json()['data']['tools']['items']\n",
    "\n",
    "for tool in tools:\n",
    "    if tool['conceptId'][-9:]==\"NSIDC_ECS\":\n",
    "        print(\"TOOL:\", tool['longName'],\",\", tool['name'])\n",
    "        for i in range(len(tool['collections']['items'])):\n",
    "            print(tool['collections']['items'][i]['shortName'], \",\", tool['collections']['items'][i]['versionId'])"
   ]
  },
  {
   "cell_type": "markdown",
   "id": "d8a6bb85-4072-461e-b7f4-5d27b5f812d2",
   "metadata": {},
   "source": [
    "### Return a list of all dataset association to each V0 Tool:"
   ]
  },
  {
   "cell_type": "code",
   "execution_count": null,
   "id": "3b5e5ab1-02d2-4a10-87f0-066bf736c161",
   "metadata": {},
   "outputs": [],
   "source": [
    "query = \"\"\"query {\n",
    "  tools(limit: 2000) {\n",
    "    count\n",
    "    items {\n",
    "      name\n",
    "      longName\n",
    "      conceptId\n",
    "      collections(limit: 2000) {\n",
    "        count \n",
    "        items {\n",
    "          shortName\n",
    "          versionId\n",
    "          conceptId\n",
    "          provider\n",
    "        }\n",
    "      }\n",
    "    }\n",
    "  }\n",
    "}\"\"\""
   ]
  },
  {
   "cell_type": "code",
   "execution_count": null,
   "id": "0ad2ccdb-f55f-431b-86fb-7dc27f87aad5",
   "metadata": {},
   "outputs": [],
   "source": [
    "graphql_url = 'https://graphql.earthdata.nasa.gov/api'\n",
    "\n",
    "graphql_response = requests.get(graphql_url,\n",
    "                        params={\"query\": query},\n",
    "                        headers={\n",
    "                            'Accept': 'application/json',\n",
    "                        }\n",
    "                       )"
   ]
  },
  {
   "cell_type": "code",
   "execution_count": null,
   "id": "580a9033-01ab-4699-9b7f-265104b22b03",
   "metadata": {
    "tags": []
   },
   "outputs": [],
   "source": [
    "tools = graphql_response.json()['data']['tools']['items']\n",
    "\n",
    "for tool in tools:\n",
    "    if tool['conceptId'][-7:]==\"NSIDCV0\":\n",
    "        print(\"TOOL:\", tool['longName'],\",\", tool['name'])\n",
    "        for i in range(len(tool['collections']['items'])):\n",
    "            print(tool['collections']['items'][i]['shortName'], \",\", tool['collections']['items'][i]['versionId'])"
   ]
  },
  {
   "cell_type": "code",
   "execution_count": null,
   "id": "297f2f17-392f-4c71-b250-b646dff2f1df",
   "metadata": {},
   "outputs": [],
   "source": []
  }
 ],
 "metadata": {
  "kernelspec": {
   "display_name": "Python 3 (ipykernel)",
   "language": "python",
   "name": "python3"
  },
  "language_info": {
   "codemirror_mode": {
    "name": "ipython",
    "version": 3
   },
   "file_extension": ".py",
   "mimetype": "text/x-python",
   "name": "python",
   "nbconvert_exporter": "python",
   "pygments_lexer": "ipython3",
   "version": "3.9.9"
  }
 },
 "nbformat": 4,
 "nbformat_minor": 5
}
